{
 "cells": [
  {
   "cell_type": "code",
   "execution_count": null,
   "metadata": {},
   "outputs": [],
   "source": [
    "# BAR PLOT WITH VALUE ANNOTATONS "
   ]
  },
  {
   "cell_type": "code",
   "execution_count": null,
   "metadata": {},
   "outputs": [],
   "source": [
    "plt.figure(figsize=(12,8))\n",
    "ax = sns.barplot(data  = a , x =\"Taluka_Name\" , y = \"Plot_Code\" , palette=\"Blues_d\" , zorder = 3)\n",
    "ax.set_facecolor(\"#ffffcc\")\n",
    "for bar in ax.patches:\n",
    "    height = bar.get_height()\n",
    "    ax.text(bar.get_x() + bar.get_width()/2 , height+0.2 , f\"{int(height)}\"  , ha = \"center\" , va = \"bottom\" , fontsize = 12 ) \n",
    "plt.title(\"Unique plot count in Taluka's\")\n",
    "plt.xlabel(\"Taluka Name\")\n",
    "plt.ylabel(\"Unique Plot Count\")\n",
    "plt.grid(True , axis = \"y\" , linestyle = \"--\" , zorder = 1)\n",
    "plt.show()"
   ]
  }
 ],
 "metadata": {
  "language_info": {
   "name": "python"
  }
 },
 "nbformat": 4,
 "nbformat_minor": 2
}
