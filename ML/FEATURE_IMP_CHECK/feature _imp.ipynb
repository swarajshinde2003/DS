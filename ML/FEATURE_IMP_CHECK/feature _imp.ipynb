{
 "cells": [
  {
   "cell_type": "markdown",
   "id": "05b9b035",
   "metadata": {},
   "source": [
    "JUST TO CHECK THE FEATURE IMPORTANCE AFTER THE TRAINING  "
   ]
  },
  {
   "cell_type": "markdown",
   "id": "bb488239",
   "metadata": {},
   "source": [
    "REPLACE THE MODEL PATH "
   ]
  },
  {
   "cell_type": "markdown",
   "id": "eac30e9f",
   "metadata": {},
   "source": [
    "import joblib\n",
    "import matplotlib.pyplot as plt\n",
    "import pandas as pd\n",
    "\n",
    "# Load trained model\n",
    "model = joblib.load(\"best_regression_model.joblib\")\n",
    "\n",
    "# Check if model supports feature_importances_\n",
    "if hasattr(model, \"feature_importances_\"):\n",
    "    importances = model.feature_importances_\n",
    "    \n",
    "    # Use feature names directly from X_train\n",
    "    importance_df = pd.DataFrame({\n",
    "        'Feature': X_train.columns,\n",
    "        'Importance': importances\n",
    "    })\n",
    "\n",
    "    # Plot\n",
    "    plt.figure(figsize=(10, 6))\n",
    "    plt.barh(importance_df['Feature'], importance_df['Importance'], color='skyblue')\n",
    "    plt.xlabel(\"Importance\")\n",
    "    plt.title(\"Feature Importance\")\n",
    "    plt.gca().invert_yaxis()\n",
    "    plt.tight_layout()\n",
    "    plt.show()\n",
    "\n",
    "else:\n",
    "    print(\"Model doesn't support feature importance.\")\n"
   ]
  },
  {
   "cell_type": "code",
   "execution_count": null,
   "id": "85a9c1fb",
   "metadata": {},
   "outputs": [],
   "source": []
  }
 ],
 "metadata": {
  "language_info": {
   "name": "python"
  }
 },
 "nbformat": 4,
 "nbformat_minor": 5
}
