{
 "cells": [
  {
   "cell_type": "code",
   "execution_count": null,
   "metadata": {},
   "outputs": [],
   "source": [
    "INFERENCE CODE YOU CAN MODIFY IT ACCORDING TO YOUR COLUMN\n",
    "NOTE - SEQUENCE OF MODEL SHOULD BE SAME AS YOU HAVE GIVEN DURING TRAINING"
   ]
  },
  {
   "cell_type": "code",
   "execution_count": null,
   "metadata": {},
   "outputs": [],
   "source": [
    ".."
   ]
  },
  {
   "cell_type": "code",
   "execution_count": null,
   "metadata": {},
   "outputs": [],
   "source": [
    "# INFERENCING 1111111\n",
    "\n",
    "import numpy as np\n",
    "import pandas as pd\n",
    "import joblib\n",
    "\n",
    "\n",
    "# Load trained model\n",
    "# from tensorflow.keras.models import load_model\n",
    "best_model = joblib.load(\"month_best_model.joblib\")\n",
    "\n",
    "# Load preprocessing objects\n",
    "label_encoders = joblib.load(\"month_label_encoder.joblib\")  # Dictionary of LabelEncoders\n",
    "scaler = joblib.load(\"month_scaler.joblib\")\n",
    "\n",
    "# Define feature columns\n",
    "categorical_cols = [\"Crop_Name\"]  # Adjust as per your dataset\n",
    "numerical_cols = [\"Mean_per_kg_rate-3\", \"Mean_per_kg_rate-2\", \"Mean_per_kg_rate-1\",\n",
    "                  \"Mean_order_quantity-3\", \"Mean_order_quantity-2\", \"Mean_order_quantity-1\"]\n",
    "\n",
    "\n",
    "def preprocess_input(data, label_encoders, scaler, categorical_cols, numerical_cols):\n",
    "    data = data.copy()  # Avoid modifying the original input\n",
    "    \n",
    "    # Encode categorical features\n",
    "    for col in categorical_cols:\n",
    "        if col in data.columns:\n",
    "            encoder = label_encoders.get(col)  # Retrieve corresponding encoder\n",
    "            if encoder:\n",
    "                data[col] = data[col].apply(lambda x: encoder.transform([x])[0] \n",
    "                                            if x in encoder.classes_ else -1)  # Handle unseen categories\n",
    "    \n",
    "    # Scale numerical features\n",
    "    data[numerical_cols] = scaler.transform(data[numerical_cols])\n",
    "\n",
    "    return data\n",
    "\n",
    "\n",
    "\n"
   ]
  },
  {
   "cell_type": "code",
   "execution_count": null,
   "metadata": {},
   "outputs": [],
   "source": [
    "# EXAMPLE\n",
    "\n",
    "# Example new data for prediction\n",
    "new_data = pd.DataFrame({\n",
    "    \"Crop_Name\": [\"Mango\"],  # Example categorical value\n",
    "    \"Mean_per_kg_rate-3\": [25],\n",
    "    \"Mean_per_kg_rate-2\": [25],\n",
    "    \"Mean_per_kg_rate-1\": [25],\n",
    "    \"Mean_order_quantity-3\": [7],\n",
    "    \"Mean_order_quantity-2\": [6],\n",
    "    \"Mean_order_quantity-1\": [7]\n",
    "})\n",
    "\n",
    "# Preprocess the new data\n",
    "X_new = preprocess_input(new_data, label_encoders, scaler, categorical_cols, numerical_cols)\n",
    "\n",
    "# Make predictions\n",
    "y_pred = best_model.predict(X_new)\n",
    "\n",
    "if isinstance(y_pred, (np.ndarray, list)):  \n",
    "    print(f\"Predicted Mean Order Quantity: {y_pred[0]:.2f}\")  # For arrays/lists\n",
    "else:  \n",
    "    print(f\"Predicted Mean Order Quantity: {y_pred:.2f}\")  # For scalars\n"
   ]
  }
 ],
 "metadata": {
  "language_info": {
   "name": "python"
  }
 },
 "nbformat": 4,
 "nbformat_minor": 2
}
