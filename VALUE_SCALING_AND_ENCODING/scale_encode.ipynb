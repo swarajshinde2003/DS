{
 "cells": [
  {
   "cell_type": "code",
   "execution_count": null,
   "metadata": {},
   "outputs": [],
   "source": [
    "from sklearn.preprocessing import StandardScaler,LabelEncoder\n",
    "import joblib\n",
    "\n",
    "\n",
    "# REPLACE WITH CATEGORICAL COLUMN NAME \n",
    "cat_col = ['Crop']\n",
    "\n",
    "# REPLACE WITH  NUMERICAL COLUMN NAME \n",
    "num_col = ['Temperature_avg_day', 'Relative_humidity_avg_day',\n",
    "       'Rain_avg_day', 'Wind_speed_avg_day', 'Wind_direction_avg_day',\n",
    "       'Shortwave_radiation_avg_day', 'NDVI' ]\n",
    "\n",
    "label_enc={}\n",
    "for col in cat_col:\n",
    "       le = LabelEncoder()\n",
    "       df[col] = le.fit_transform(df[col])\n",
    "       label_enc[col] = le\n",
    "       \n",
    "\n",
    "scale = StandardScaler()\n",
    "df[num_col] = scale.fit_transform(df[num_col])\n",
    "\n",
    "joblib.dump(scale, \"banana_scale.joblib\")\n",
    "joblib.dump(label_enc, \"banana_label.joblib\")\n",
    "\n",
    "# ..\n",
    "# .\n",
    "\n"
   ]
  }
 ],
 "metadata": {
  "language_info": {
   "name": "python"
  }
 },
 "nbformat": 4,
 "nbformat_minor": 2
}
